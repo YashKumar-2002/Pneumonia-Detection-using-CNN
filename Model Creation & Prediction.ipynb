{
 "cells": [
  {
   "cell_type": "code",
   "execution_count": 1,
   "metadata": {},
   "outputs": [
    {
     "name": "stdout",
     "output_type": "stream",
     "text": [
      "WARNING:tensorflow:From C:\\Users\\ASUS\\AppData\\Roaming\\Python\\Python310\\site-packages\\keras\\src\\losses.py:2976: The name tf.losses.sparse_softmax_cross_entropy is deprecated. Please use tf.compat.v1.losses.sparse_softmax_cross_entropy instead.\n",
      "\n"
     ]
    }
   ],
   "source": [
    "import tensorflow as tf\n",
    "from keras.preprocessing.image import ImageDataGenerator\n",
    "import matplotlib.pyplot as plt"
   ]
  },
  {
   "cell_type": "markdown",
   "metadata": {},
   "source": [
    "**Part 1 - Data Preprocessing**"
   ]
  },
  {
   "cell_type": "code",
   "execution_count": 2,
   "metadata": {},
   "outputs": [
    {
     "name": "stdout",
     "output_type": "stream",
     "text": [
      "Found 5216 images belonging to 2 classes.\n"
     ]
    }
   ],
   "source": [
    "train_datagen = ImageDataGenerator(rescale = 1./255,\n",
    "                                   shear_range = 0.2,\n",
    "                                   zoom_range = 0.2,\n",
    "                                   horizontal_flip = True)\n",
    "training_set = train_datagen.flow_from_directory('chest_xray/train',\n",
    "                                                 target_size = (64, 64),\n",
    "                                                 batch_size = 32,\n",
    "                                                 class_mode = 'binary')"
   ]
  },
  {
   "cell_type": "code",
   "execution_count": 3,
   "metadata": {},
   "outputs": [
    {
     "name": "stdout",
     "output_type": "stream",
     "text": [
      "Found 624 images belonging to 2 classes.\n"
     ]
    }
   ],
   "source": [
    "test_datagen = ImageDataGenerator(rescale = 1./255)\n",
    "test_set = test_datagen.flow_from_directory('chest_xray/test',\n",
    "                                            target_size = (64, 64),\n",
    "                                            batch_size = 32,\n",
    "                                            class_mode = 'binary')"
   ]
  },
  {
   "cell_type": "markdown",
   "metadata": {},
   "source": [
    "**Part 2 - Building the CNN**"
   ]
  },
  {
   "cell_type": "markdown",
   "metadata": {},
   "source": [
    "Initialising the CNN"
   ]
  },
  {
   "cell_type": "code",
   "execution_count": 4,
   "metadata": {},
   "outputs": [
    {
     "name": "stdout",
     "output_type": "stream",
     "text": [
      "WARNING:tensorflow:From C:\\Users\\ASUS\\AppData\\Roaming\\Python\\Python310\\site-packages\\keras\\src\\backend.py:873: The name tf.get_default_graph is deprecated. Please use tf.compat.v1.get_default_graph instead.\n",
      "\n"
     ]
    }
   ],
   "source": [
    "cnn = tf.keras.models.Sequential()"
   ]
  },
  {
   "cell_type": "markdown",
   "metadata": {},
   "source": [
    "Step 1 - Convolution"
   ]
  },
  {
   "cell_type": "code",
   "execution_count": 5,
   "metadata": {},
   "outputs": [],
   "source": [
    "cnn.add(tf.keras.layers.Conv2D(filters=32, kernel_size=3, activation='relu', input_shape=[64, 64, 3]))"
   ]
  },
  {
   "cell_type": "markdown",
   "metadata": {},
   "source": [
    "Step 2 - Pooling"
   ]
  },
  {
   "cell_type": "code",
   "execution_count": 6,
   "metadata": {},
   "outputs": [
    {
     "name": "stdout",
     "output_type": "stream",
     "text": [
      "WARNING:tensorflow:From C:\\Users\\ASUS\\AppData\\Roaming\\Python\\Python310\\site-packages\\keras\\src\\layers\\pooling\\max_pooling2d.py:161: The name tf.nn.max_pool is deprecated. Please use tf.nn.max_pool2d instead.\n",
      "\n"
     ]
    }
   ],
   "source": [
    "cnn.add(tf.keras.layers.MaxPool2D(pool_size=2, strides=2))"
   ]
  },
  {
   "cell_type": "markdown",
   "metadata": {},
   "source": [
    "Adding a second convolutional layer"
   ]
  },
  {
   "cell_type": "code",
   "execution_count": 7,
   "metadata": {},
   "outputs": [],
   "source": [
    "cnn.add(tf.keras.layers.Conv2D(filters=32, kernel_size=3, activation='relu'))\n",
    "cnn.add(tf.keras.layers.MaxPool2D(pool_size=2, strides=2))"
   ]
  },
  {
   "cell_type": "markdown",
   "metadata": {},
   "source": [
    "Step 3 - Flattening"
   ]
  },
  {
   "cell_type": "code",
   "execution_count": 8,
   "metadata": {},
   "outputs": [],
   "source": [
    "cnn.add(tf.keras.layers.Flatten())"
   ]
  },
  {
   "cell_type": "markdown",
   "metadata": {},
   "source": [
    "Step 4 - Full Connection"
   ]
  },
  {
   "cell_type": "code",
   "execution_count": 9,
   "metadata": {},
   "outputs": [],
   "source": [
    "cnn.add(tf.keras.layers.Dense(units=128, activation='relu'))"
   ]
  },
  {
   "cell_type": "markdown",
   "metadata": {},
   "source": [
    "Step 5 - Output Layer"
   ]
  },
  {
   "cell_type": "code",
   "execution_count": 10,
   "metadata": {},
   "outputs": [],
   "source": [
    "cnn.add(tf.keras.layers.Dense(units=1, activation='sigmoid'))"
   ]
  },
  {
   "cell_type": "markdown",
   "metadata": {},
   "source": [
    "**Part 3 - Training the CNN**"
   ]
  },
  {
   "cell_type": "markdown",
   "metadata": {},
   "source": [
    "Compiling the CNN"
   ]
  },
  {
   "cell_type": "code",
   "execution_count": 11,
   "metadata": {},
   "outputs": [
    {
     "name": "stdout",
     "output_type": "stream",
     "text": [
      "WARNING:tensorflow:From C:\\Users\\ASUS\\AppData\\Roaming\\Python\\Python310\\site-packages\\keras\\src\\optimizers\\__init__.py:309: The name tf.train.Optimizer is deprecated. Please use tf.compat.v1.train.Optimizer instead.\n",
      "\n"
     ]
    }
   ],
   "source": [
    "cnn.compile(optimizer = 'adam', loss = 'binary_crossentropy', metrics = ['accuracy'])"
   ]
  },
  {
   "cell_type": "code",
   "execution_count": 12,
   "metadata": {},
   "outputs": [
    {
     "name": "stdout",
     "output_type": "stream",
     "text": [
      "Model: \"sequential\"\n",
      "_________________________________________________________________\n",
      " Layer (type)                Output Shape              Param #   \n",
      "=================================================================\n",
      " conv2d (Conv2D)             (None, 62, 62, 32)        896       \n",
      "                                                                 \n",
      " max_pooling2d (MaxPooling2  (None, 31, 31, 32)        0         \n",
      " D)                                                              \n",
      "                                                                 \n",
      " conv2d_1 (Conv2D)           (None, 29, 29, 32)        9248      \n",
      "                                                                 \n",
      " max_pooling2d_1 (MaxPoolin  (None, 14, 14, 32)        0         \n",
      " g2D)                                                            \n",
      "                                                                 \n",
      " flatten (Flatten)           (None, 6272)              0         \n",
      "                                                                 \n",
      " dense (Dense)               (None, 128)               802944    \n",
      "                                                                 \n",
      " dense_1 (Dense)             (None, 1)                 129       \n",
      "                                                                 \n",
      "=================================================================\n",
      "Total params: 813217 (3.10 MB)\n",
      "Trainable params: 813217 (3.10 MB)\n",
      "Non-trainable params: 0 (0.00 Byte)\n",
      "_________________________________________________________________\n"
     ]
    }
   ],
   "source": [
    "cnn.summary()"
   ]
  },
  {
   "cell_type": "markdown",
   "metadata": {},
   "source": [
    "Training the CNN on the Training set and evaluating it on the Test set"
   ]
  },
  {
   "cell_type": "code",
   "execution_count": 13,
   "metadata": {},
   "outputs": [
    {
     "name": "stdout",
     "output_type": "stream",
     "text": [
      "Epoch 1/50\n",
      "WARNING:tensorflow:From C:\\Users\\ASUS\\AppData\\Roaming\\Python\\Python310\\site-packages\\keras\\src\\utils\\tf_utils.py:492: The name tf.ragged.RaggedTensorValue is deprecated. Please use tf.compat.v1.ragged.RaggedTensorValue instead.\n",
      "\n",
      "WARNING:tensorflow:From C:\\Users\\ASUS\\AppData\\Roaming\\Python\\Python310\\site-packages\\keras\\src\\engine\\base_layer_utils.py:384: The name tf.executing_eagerly_outside_functions is deprecated. Please use tf.compat.v1.executing_eagerly_outside_functions instead.\n",
      "\n",
      "163/163 [==============================] - 105s 637ms/step - loss: 0.3541 - accuracy: 0.8418 - val_loss: 0.3250 - val_accuracy: 0.8574\n",
      "Epoch 2/50\n",
      "163/163 [==============================] - 49s 299ms/step - loss: 0.2049 - accuracy: 0.9174 - val_loss: 0.4577 - val_accuracy: 0.8061\n",
      "Epoch 3/50\n",
      "163/163 [==============================] - 49s 299ms/step - loss: 0.2060 - accuracy: 0.9185 - val_loss: 0.3991 - val_accuracy: 0.8510\n",
      "Epoch 4/50\n",
      "163/163 [==============================] - 48s 295ms/step - loss: 0.1747 - accuracy: 0.9291 - val_loss: 0.2647 - val_accuracy: 0.8990\n",
      "Epoch 5/50\n",
      "163/163 [==============================] - 49s 298ms/step - loss: 0.1587 - accuracy: 0.9379 - val_loss: 0.4439 - val_accuracy: 0.8381\n",
      "Epoch 6/50\n",
      "163/163 [==============================] - 49s 298ms/step - loss: 0.1575 - accuracy: 0.9413 - val_loss: 0.5300 - val_accuracy: 0.8109\n",
      "Epoch 7/50\n",
      "163/163 [==============================] - 48s 296ms/step - loss: 0.1634 - accuracy: 0.9346 - val_loss: 0.3412 - val_accuracy: 0.8798\n",
      "Epoch 8/50\n",
      "163/163 [==============================] - 49s 299ms/step - loss: 0.1399 - accuracy: 0.9469 - val_loss: 0.2622 - val_accuracy: 0.8910\n",
      "Epoch 9/50\n",
      "163/163 [==============================] - 48s 294ms/step - loss: 0.1465 - accuracy: 0.9467 - val_loss: 0.4351 - val_accuracy: 0.8510\n",
      "Epoch 10/50\n",
      "163/163 [==============================] - 48s 295ms/step - loss: 0.1421 - accuracy: 0.9467 - val_loss: 0.3362 - val_accuracy: 0.9022\n",
      "Epoch 11/50\n",
      "163/163 [==============================] - 48s 297ms/step - loss: 0.1400 - accuracy: 0.9465 - val_loss: 0.3176 - val_accuracy: 0.8990\n",
      "Epoch 12/50\n",
      "163/163 [==============================] - 48s 296ms/step - loss: 0.1290 - accuracy: 0.9511 - val_loss: 0.3165 - val_accuracy: 0.8782\n",
      "Epoch 13/50\n",
      "163/163 [==============================] - 48s 293ms/step - loss: 0.1165 - accuracy: 0.9536 - val_loss: 0.3427 - val_accuracy: 0.8926\n",
      "Epoch 14/50\n",
      "163/163 [==============================] - 50s 310ms/step - loss: 0.1205 - accuracy: 0.9519 - val_loss: 0.3680 - val_accuracy: 0.8814\n",
      "Epoch 15/50\n",
      "163/163 [==============================] - 55s 337ms/step - loss: 0.1108 - accuracy: 0.9609 - val_loss: 0.2711 - val_accuracy: 0.9071\n",
      "Epoch 16/50\n",
      "163/163 [==============================] - 103s 633ms/step - loss: 0.1063 - accuracy: 0.9601 - val_loss: 0.3150 - val_accuracy: 0.8990\n",
      "Epoch 17/50\n",
      "163/163 [==============================] - 58s 356ms/step - loss: 0.1116 - accuracy: 0.9582 - val_loss: 0.2964 - val_accuracy: 0.9071\n",
      "Epoch 18/50\n",
      "163/163 [==============================] - 56s 344ms/step - loss: 0.1020 - accuracy: 0.9617 - val_loss: 0.5128 - val_accuracy: 0.8462\n",
      "Epoch 19/50\n",
      "163/163 [==============================] - 60s 368ms/step - loss: 0.1062 - accuracy: 0.9611 - val_loss: 0.2572 - val_accuracy: 0.9183\n",
      "Epoch 20/50\n",
      "163/163 [==============================] - 60s 366ms/step - loss: 0.1069 - accuracy: 0.9590 - val_loss: 0.4416 - val_accuracy: 0.8686\n",
      "Epoch 21/50\n",
      "163/163 [==============================] - 53s 324ms/step - loss: 0.1070 - accuracy: 0.9588 - val_loss: 0.3441 - val_accuracy: 0.8990\n",
      "Epoch 22/50\n",
      "163/163 [==============================] - 51s 311ms/step - loss: 0.0957 - accuracy: 0.9601 - val_loss: 0.3849 - val_accuracy: 0.8638\n",
      "Epoch 23/50\n",
      "163/163 [==============================] - 51s 312ms/step - loss: 0.0985 - accuracy: 0.9647 - val_loss: 0.2768 - val_accuracy: 0.9038\n",
      "Epoch 24/50\n",
      "163/163 [==============================] - 51s 315ms/step - loss: 0.0982 - accuracy: 0.9626 - val_loss: 0.3087 - val_accuracy: 0.9103\n",
      "Epoch 25/50\n",
      "163/163 [==============================] - 51s 316ms/step - loss: 0.0981 - accuracy: 0.9641 - val_loss: 0.3092 - val_accuracy: 0.9151\n",
      "Epoch 26/50\n",
      "163/163 [==============================] - 52s 316ms/step - loss: 0.0954 - accuracy: 0.9638 - val_loss: 0.4936 - val_accuracy: 0.8718\n",
      "Epoch 27/50\n",
      "163/163 [==============================] - 52s 318ms/step - loss: 0.0902 - accuracy: 0.9649 - val_loss: 0.4823 - val_accuracy: 0.8510\n",
      "Epoch 28/50\n",
      "163/163 [==============================] - 51s 314ms/step - loss: 0.0854 - accuracy: 0.9693 - val_loss: 0.2746 - val_accuracy: 0.9167\n",
      "Epoch 29/50\n",
      "163/163 [==============================] - 50s 307ms/step - loss: 0.0847 - accuracy: 0.9701 - val_loss: 0.3389 - val_accuracy: 0.8862\n",
      "Epoch 30/50\n",
      "163/163 [==============================] - 51s 311ms/step - loss: 0.0914 - accuracy: 0.9647 - val_loss: 0.3863 - val_accuracy: 0.8958\n",
      "Epoch 31/50\n",
      "163/163 [==============================] - 51s 313ms/step - loss: 0.0885 - accuracy: 0.9689 - val_loss: 0.3974 - val_accuracy: 0.8734\n",
      "Epoch 32/50\n",
      "163/163 [==============================] - 56s 345ms/step - loss: 0.0866 - accuracy: 0.9691 - val_loss: 0.5104 - val_accuracy: 0.8686\n",
      "Epoch 33/50\n",
      "163/163 [==============================] - 55s 336ms/step - loss: 0.0872 - accuracy: 0.9676 - val_loss: 0.3405 - val_accuracy: 0.8990\n",
      "Epoch 34/50\n",
      "163/163 [==============================] - 65s 400ms/step - loss: 0.0861 - accuracy: 0.9689 - val_loss: 0.2863 - val_accuracy: 0.9167\n",
      "Epoch 35/50\n",
      "163/163 [==============================] - 67s 412ms/step - loss: 0.0751 - accuracy: 0.9724 - val_loss: 0.4366 - val_accuracy: 0.8782\n",
      "Epoch 36/50\n",
      "163/163 [==============================] - 58s 353ms/step - loss: 0.0871 - accuracy: 0.9680 - val_loss: 0.3841 - val_accuracy: 0.8814\n",
      "Epoch 37/50\n",
      "163/163 [==============================] - 49s 298ms/step - loss: 0.0808 - accuracy: 0.9693 - val_loss: 0.2953 - val_accuracy: 0.9038\n",
      "Epoch 38/50\n",
      "163/163 [==============================] - 48s 296ms/step - loss: 0.0760 - accuracy: 0.9737 - val_loss: 0.2675 - val_accuracy: 0.9135\n",
      "Epoch 39/50\n",
      "163/163 [==============================] - 48s 296ms/step - loss: 0.0692 - accuracy: 0.9734 - val_loss: 0.3657 - val_accuracy: 0.9038\n",
      "Epoch 40/50\n",
      "163/163 [==============================] - 48s 296ms/step - loss: 0.0727 - accuracy: 0.9745 - val_loss: 0.2705 - val_accuracy: 0.9119\n",
      "Epoch 41/50\n",
      "163/163 [==============================] - 48s 296ms/step - loss: 0.0651 - accuracy: 0.9749 - val_loss: 0.3667 - val_accuracy: 0.8894\n",
      "Epoch 42/50\n",
      "163/163 [==============================] - 76s 467ms/step - loss: 0.0741 - accuracy: 0.9691 - val_loss: 0.3482 - val_accuracy: 0.9054\n",
      "Epoch 43/50\n",
      "163/163 [==============================] - 77s 471ms/step - loss: 0.0622 - accuracy: 0.9760 - val_loss: 0.3623 - val_accuracy: 0.9038\n",
      "Epoch 44/50\n",
      "163/163 [==============================] - 51s 311ms/step - loss: 0.0619 - accuracy: 0.9776 - val_loss: 0.2646 - val_accuracy: 0.9167\n",
      "Epoch 45/50\n",
      "163/163 [==============================] - 50s 306ms/step - loss: 0.0679 - accuracy: 0.9735 - val_loss: 0.4510 - val_accuracy: 0.8606\n",
      "Epoch 46/50\n",
      "163/163 [==============================] - 49s 301ms/step - loss: 0.0574 - accuracy: 0.9806 - val_loss: 0.3420 - val_accuracy: 0.9054\n",
      "Epoch 47/50\n",
      "163/163 [==============================] - 48s 295ms/step - loss: 0.0555 - accuracy: 0.9795 - val_loss: 0.3765 - val_accuracy: 0.9022\n",
      "Epoch 48/50\n",
      "163/163 [==============================] - 48s 295ms/step - loss: 0.0604 - accuracy: 0.9772 - val_loss: 0.2798 - val_accuracy: 0.9151\n",
      "Epoch 49/50\n",
      "163/163 [==============================] - 48s 296ms/step - loss: 0.0629 - accuracy: 0.9745 - val_loss: 0.3783 - val_accuracy: 0.8830\n",
      "Epoch 50/50\n",
      "163/163 [==============================] - 48s 294ms/step - loss: 0.0655 - accuracy: 0.9734 - val_loss: 0.3551 - val_accuracy: 0.8862\n"
     ]
    }
   ],
   "source": [
    "history = cnn.fit(x = training_set, validation_data = test_set, epochs = 50)"
   ]
  },
  {
   "cell_type": "code",
   "execution_count": 14,
   "metadata": {},
   "outputs": [
    {
     "data": {
      "image/png": "[encoded data removed]",
      "text/plain": [
       "<Figure size 640x480 with 1 Axes>"
      ]
     },
     "metadata": {},
     "output_type": "display_data"
    }
   ],
   "source": [
    "plt.plot(history.history['accuracy'], label='Training Accuracy')\n",
    "plt.plot(history.history['val_accuracy'], label='Validation Accuracy')\n",
    "plt.title('Model Accuracy')\n",
    "plt.xlabel('Epochs')\n",
    "plt.ylabel('Accuracy')\n",
    "plt.legend()\n",
    "plt.show()\n"
   ]
  },
  {
   "cell_type": "code",
   "execution_count": 15,
   "metadata": {},
   "outputs": [
    {
     "data": {
      "text/plain": [
       "[0.8418328166007996,\n",
       " 0.9173696041107178,\n",
       " 0.918519914150238,\n",
       " 0.9290643930435181,\n",
       " 0.9378834366798401,\n",
       " 0.9413343667984009,\n",
       " 0.9346242547035217,\n",
       " 0.9468941688537598,\n",
       " 0.9467024803161621,\n",
       " 0.9467024803161621,\n",
       " 0.9465107321739197,\n",
       " 0.9511119723320007,\n",
       " 0.9536042809486389,\n",
       " 0.9518788456916809,\n",
       " 0.9608895778656006,\n",
       " 0.9601227045059204,\n",
       " 0.95820552110672,\n",
       " 0.9616564512252808,\n",
       " 0.9610812664031982,\n",
       " 0.9589723944664001,\n",
       " 0.9587806463241577,\n",
       " 0.9601227045059204,\n",
       " 0.9647239446640015,\n",
       " 0.9626150131225586,\n",
       " 0.964148759841919,\n",
       " 0.9637653231620789,\n",
       " 0.9649156332015991,\n",
       " 0.9693251252174377,\n",
       " 0.9700919985771179,\n",
       " 0.9647239446640015,\n",
       " 0.9689416885375977,\n",
       " 0.9691334366798401,\n",
       " 0.9675996899604797,\n",
       " 0.9689416885375977,\n",
       " 0.9723926186561584,\n",
       " 0.9679831266403198,\n",
       " 0.9693251252174377,\n",
       " 0.9737346768379211,\n",
       " 0.973351240158081,\n",
       " 0.9745015501976013,\n",
       " 0.9748849868774414,\n",
       " 0.9691334366798401,\n",
       " 0.9760352969169617,\n",
       " 0.977569043636322,\n",
       " 0.9735429286956787,\n",
       " 0.980636477470398,\n",
       " 0.9794861674308777,\n",
       " 0.9771856069564819,\n",
       " 0.9745015501976013,\n",
       " 0.973351240158081]"
      ]
     },
     "execution_count": 15,
     "metadata": {},
     "output_type": "execute_result"
    }
   ],
   "source": [
    "history.history['accuracy']"
   ]
  },
  {
   "cell_type": "code",
   "execution_count": 16,
   "metadata": {},
   "outputs": [
    {
     "data": {
      "text/plain": [
       "[0.8573718070983887,\n",
       " 0.8060897588729858,\n",
       " 0.8509615659713745,\n",
       " 0.8990384340286255,\n",
       " 0.8381410241127014,\n",
       " 0.8108974099159241,\n",
       " 0.879807710647583,\n",
       " 0.8910256624221802,\n",
       " 0.8509615659713745,\n",
       " 0.9022436141967773,\n",
       " 0.8990384340286255,\n",
       " 0.8782051205635071,\n",
       " 0.8926281929016113,\n",
       " 0.8814102411270142,\n",
       " 0.9070512652397156,\n",
       " 0.8990384340286255,\n",
       " 0.9070512652397156,\n",
       " 0.8461538553237915,\n",
       " 0.9182692170143127,\n",
       " 0.8685897588729858,\n",
       " 0.8990384340286255,\n",
       " 0.8637820482254028,\n",
       " 0.9038461446762085,\n",
       " 0.9102563858032227,\n",
       " 0.9150640964508057,\n",
       " 0.8717948794364929,\n",
       " 0.8509615659713745,\n",
       " 0.9166666865348816,\n",
       " 0.8862179517745972,\n",
       " 0.8958333134651184,\n",
       " 0.8733974099159241,\n",
       " 0.8685897588729858,\n",
       " 0.8990384340286255,\n",
       " 0.9166666865348816,\n",
       " 0.8782051205635071,\n",
       " 0.8814102411270142,\n",
       " 0.9038461446762085,\n",
       " 0.9134615659713745,\n",
       " 0.9038461446762085,\n",
       " 0.9118589758872986,\n",
       " 0.8894230723381042,\n",
       " 0.9054487347602844,\n",
       " 0.9038461446762085,\n",
       " 0.9166666865348816,\n",
       " 0.8605769276618958,\n",
       " 0.9054487347602844,\n",
       " 0.9022436141967773,\n",
       " 0.9150640964508057,\n",
       " 0.8830128312110901,\n",
       " 0.8862179517745972]"
      ]
     },
     "execution_count": 16,
     "metadata": {},
     "output_type": "execute_result"
    }
   ],
   "source": [
    "history.history['val_accuracy']"
   ]
  },
  {
   "cell_type": "markdown",
   "metadata": {},
   "source": [
    "Finding class indeces"
   ]
  },
  {
   "cell_type": "code",
   "execution_count": 17,
   "metadata": {},
   "outputs": [
    {
     "data": {
      "text/plain": [
       "{'NORMAL': 0, 'PNEUMONIA': 1}"
      ]
     },
     "execution_count": 17,
     "metadata": {},
     "output_type": "execute_result"
    }
   ],
   "source": [
    "training_set.class_indices"
   ]
  },
  {
   "cell_type": "markdown",
   "metadata": {},
   "source": [
    "Saving Model"
   ]
  },
  {
   "cell_type": "code",
   "execution_count": 18,
   "metadata": {},
   "outputs": [
    {
     "name": "stderr",
     "output_type": "stream",
     "text": [
      "C:\\Users\\ASUS\\AppData\\Roaming\\Python\\Python310\\site-packages\\keras\\src\\engine\\training.py:3103: UserWarning: You are saving your model as an HDF5 file via `model.save()`. This file format is considered legacy. We recommend using instead the native Keras format, e.g. `model.save('my_model.keras')`.\n",
      "  saving_api.save_model(\n"
     ]
    }
   ],
   "source": [
    "from keras.models import load_model \n",
    "cnn.save(\"Pneumonia_Model.h5\") "
   ]
  },
  {
   "cell_type": "markdown",
   "metadata": {},
   "source": [
    "**Part 4 - Making a single prediction**"
   ]
  },
  {
   "cell_type": "code",
   "execution_count": 19,
   "metadata": {},
   "outputs": [],
   "source": [
    "import tensorflow as tf\n",
    "from keras.preprocessing.image import ImageDataGenerator\n",
    "from keras.models import load_model\n",
    "cnn = load_model(\"Pneumonia_Model.h5\")"
   ]
  },
  {
   "cell_type": "code",
   "execution_count": 20,
   "metadata": {},
   "outputs": [
    {
     "name": "stdout",
     "output_type": "stream",
     "text": [
      "1/1 [==============================] - 0s 162ms/step\n",
      "Pneumonia\n"
     ]
    }
   ],
   "source": [
    "import numpy as np\n",
    "from keras.preprocessing import image\n",
    "test_image = image.load_img('chest_xray/test/PNEUMONIA/person17_virus_48.jpeg', target_size = (64, 64))\n",
    "test_image = image.img_to_array(test_image)\n",
    "test_image = np.expand_dims(test_image, axis = 0)\n",
    "result = cnn.predict(test_image)\n",
    "if result[0][0] == 1:\n",
    "  prediction = 'Pneumonia'\n",
    "else:\n",
    "  prediction = 'Normal'\n",
    "print(prediction)"
   ]
  },
  {
   "cell_type": "code",
   "execution_count": null,
   "metadata": {},
   "outputs": [],
   "source": []
  }
 ],
 "metadata": {
  "kaggle": {
   "accelerator": "none",
   "dataSources": [
    {
     "datasetId": 17810,
     "sourceId": 23812,
     "sourceType": "datasetVersion"
    },
    {
     "datasetId": 251994,
     "sourceId": 529817,
     "sourceType": "datasetVersion"
    },
    {
     "datasetId": 1685555,
     "sourceId": 2762303,
     "sourceType": "datasetVersion"
    }
   ],
   "dockerImageVersionId": 30615,
   "isGpuEnabled": false,
   "isInternetEnabled": true,
   "language": "python",
   "sourceType": "notebook"
  },
  "kernelspec": {
   "display_name": "Python 3 (ipykernel)",
   "language": "python",
   "name": "python3"
  },
  "language_info": {
   "codemirror_mode": {
    "name": "ipython",
    "version": 3
   },
   "file_extension": ".py",
   "mimetype": "text/x-python",
   "name": "python",
   "nbconvert_exporter": "python",
   "pygments_lexer": "ipython3",
   "version": "3.10.7"
  }
 },
 "nbformat": 4,
 "nbformat_minor": 4
}
